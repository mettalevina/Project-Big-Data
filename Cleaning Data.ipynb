{
 "cells": [
  {
   "cell_type": "code",
   "execution_count": 1,
   "id": "31b49771",
   "metadata": {},
   "outputs": [],
   "source": [
    "import numpy as np\n",
    "import pandas as pd\n",
    "import matplotlib.pyplot as plt\n",
    "import seaborn as sns\n",
    "import scipy\n",
    "import folium"
   ]
  },
  {
   "cell_type": "code",
   "execution_count": 2,
   "id": "577d9a38",
   "metadata": {},
   "outputs": [],
   "source": [
    "ispu = pd.read_excel(\"825230074_DataMentah.xlsx\", sheet_name=\"KESELURUHAN\")"
   ]
  },
  {
   "cell_type": "code",
   "execution_count": 3,
   "id": "1a43c071",
   "metadata": {},
   "outputs": [
    {
     "data": {
      "text/html": [
       "<div>\n",
       "<style scoped>\n",
       "    .dataframe tbody tr th:only-of-type {\n",
       "        vertical-align: middle;\n",
       "    }\n",
       "\n",
       "    .dataframe tbody tr th {\n",
       "        vertical-align: top;\n",
       "    }\n",
       "\n",
       "    .dataframe thead th {\n",
       "        text-align: right;\n",
       "    }\n",
       "</style>\n",
       "<table border=\"1\" class=\"dataframe\">\n",
       "  <thead>\n",
       "    <tr style=\"text-align: right;\">\n",
       "      <th></th>\n",
       "      <th>TANGGAL</th>\n",
       "      <th>KECEPATAN_ANGIN_MAKSIMUM</th>\n",
       "      <th>ARAH_ANGIN_KECEPATAN_MAKSIMUM</th>\n",
       "      <th>KECEPATAN_ANGIN_RATA</th>\n",
       "      <th>ARAH_ANGIN_TERBANYAK</th>\n",
       "      <th>KOTA</th>\n",
       "    </tr>\n",
       "  </thead>\n",
       "  <tbody>\n",
       "    <tr>\n",
       "      <th>0</th>\n",
       "      <td>01-01-2011</td>\n",
       "      <td>4</td>\n",
       "      <td>45</td>\n",
       "      <td>3</td>\n",
       "      <td>SW</td>\n",
       "      <td>ACEH</td>\n",
       "    </tr>\n",
       "    <tr>\n",
       "      <th>1</th>\n",
       "      <td>02-01-2011</td>\n",
       "      <td>4</td>\n",
       "      <td>135</td>\n",
       "      <td>3</td>\n",
       "      <td>E</td>\n",
       "      <td>ACEH</td>\n",
       "    </tr>\n",
       "    <tr>\n",
       "      <th>2</th>\n",
       "      <td>03-01-2011</td>\n",
       "      <td>5</td>\n",
       "      <td>135</td>\n",
       "      <td>3</td>\n",
       "      <td>E</td>\n",
       "      <td>ACEH</td>\n",
       "    </tr>\n",
       "    <tr>\n",
       "      <th>3</th>\n",
       "      <td>04-01-2011</td>\n",
       "      <td>5</td>\n",
       "      <td>135</td>\n",
       "      <td>2</td>\n",
       "      <td>E</td>\n",
       "      <td>ACEH</td>\n",
       "    </tr>\n",
       "    <tr>\n",
       "      <th>4</th>\n",
       "      <td>05-01-2011</td>\n",
       "      <td>4</td>\n",
       "      <td>90</td>\n",
       "      <td>4</td>\n",
       "      <td>E</td>\n",
       "      <td>ACEH</td>\n",
       "    </tr>\n",
       "  </tbody>\n",
       "</table>\n",
       "</div>"
      ],
      "text/plain": [
       "      TANGGAL KECEPATAN_ANGIN_MAKSIMUM ARAH_ANGIN_KECEPATAN_MAKSIMUM  \\\n",
       "0  01-01-2011                        4                            45   \n",
       "1  02-01-2011                        4                           135   \n",
       "2  03-01-2011                        5                           135   \n",
       "3  04-01-2011                        5                           135   \n",
       "4  05-01-2011                        4                            90   \n",
       "\n",
       "  KECEPATAN_ANGIN_RATA ARAH_ANGIN_TERBANYAK  KOTA  \n",
       "0                    3                   SW  ACEH  \n",
       "1                    3                   E   ACEH  \n",
       "2                    3                   E   ACEH  \n",
       "3                    2                   E   ACEH  \n",
       "4                    4                   E   ACEH  "
      ]
     },
     "execution_count": 3,
     "metadata": {},
     "output_type": "execute_result"
    }
   ],
   "source": [
    "ispu.head()"
   ]
  },
  {
   "cell_type": "code",
   "execution_count": 4,
   "id": "fdbdff6b",
   "metadata": {},
   "outputs": [
    {
     "name": "stdout",
     "output_type": "stream",
     "text": [
      "<class 'pandas.core.frame.DataFrame'>\n",
      "RangeIndex: 10907 entries, 0 to 10906\n",
      "Data columns (total 6 columns):\n",
      " #   Column                         Non-Null Count  Dtype \n",
      "---  ------                         --------------  ----- \n",
      " 0   TANGGAL                        10907 non-null  object\n",
      " 1   KECEPATAN_ANGIN_MAKSIMUM       10907 non-null  object\n",
      " 2   ARAH_ANGIN_KECEPATAN_MAKSIMUM  10907 non-null  object\n",
      " 3   KECEPATAN_ANGIN_RATA           10907 non-null  object\n",
      " 4   ARAH_ANGIN_TERBANYAK           10907 non-null  object\n",
      " 5   KOTA                           10907 non-null  object\n",
      "dtypes: object(6)\n",
      "memory usage: 511.4+ KB\n"
     ]
    }
   ],
   "source": [
    "ispu.info()"
   ]
  },
  {
   "cell_type": "code",
   "execution_count": 5,
   "id": "c6f34933",
   "metadata": {},
   "outputs": [
    {
     "data": {
      "text/plain": [
       "(10907, 6)"
      ]
     },
     "execution_count": 5,
     "metadata": {},
     "output_type": "execute_result"
    }
   ],
   "source": [
    "ispu.shape"
   ]
  },
  {
   "cell_type": "code",
   "execution_count": 6,
   "id": "5e2d1d95",
   "metadata": {},
   "outputs": [
    {
     "data": {
      "text/plain": [
       "Index(['TANGGAL', 'KECEPATAN_ANGIN_MAKSIMUM', 'ARAH_ANGIN_KECEPATAN_MAKSIMUM',\n",
       "       'KECEPATAN_ANGIN_RATA', 'ARAH_ANGIN_TERBANYAK', 'KOTA'],\n",
       "      dtype='object')"
      ]
     },
     "execution_count": 6,
     "metadata": {},
     "output_type": "execute_result"
    }
   ],
   "source": [
    "ispu.columns"
   ]
  },
  {
   "cell_type": "code",
   "execution_count": 7,
   "id": "f086f3ef",
   "metadata": {},
   "outputs": [
    {
     "name": "stderr",
     "output_type": "stream",
     "text": [
      "C:\\Users\\metta\\AppData\\Local\\Temp\\ipykernel_26296\\1161123468.py:2: FutureWarning: Downcasting behavior in `replace` is deprecated and will be removed in a future version. To retain the old behavior, explicitly call `result.infer_objects(copy=False)`. To opt-in to the future behavior, set `pd.set_option('future.no_silent_downcasting', True)`\n",
      "  ispu.replace(('-'), np.nan, inplace=True)\n"
     ]
    }
   ],
   "source": [
    "ispu.replace((8888), np.nan, inplace=True)\n",
    "ispu.replace(('-'), np.nan, inplace=True)"
   ]
  },
  {
   "cell_type": "code",
   "execution_count": 8,
   "id": "99953506",
   "metadata": {},
   "outputs": [
    {
     "data": {
      "text/plain": [
       "TANGGAL                          0.000000\n",
       "KECEPATAN_ANGIN_MAKSIMUM         0.082516\n",
       "ARAH_ANGIN_KECEPATAN_MAKSIMUM    0.064179\n",
       "KECEPATAN_ANGIN_RATA             0.064179\n",
       "ARAH_ANGIN_TERBANYAK             1.411937\n",
       "KOTA                             0.000000\n",
       "dtype: float64"
      ]
     },
     "execution_count": 8,
     "metadata": {},
     "output_type": "execute_result"
    }
   ],
   "source": [
    "ispu.isna().sum()/len(ispu)*100"
   ]
  },
  {
   "cell_type": "code",
   "execution_count": 9,
   "id": "169b3203",
   "metadata": {},
   "outputs": [],
   "source": [
    "ispu = ispu.ffill()\n",
    "ispu = ispu.bfill()"
   ]
  },
  {
   "cell_type": "code",
   "execution_count": 10,
   "id": "7343fe73",
   "metadata": {},
   "outputs": [
    {
     "data": {
      "text/html": [
       "<div>\n",
       "<style scoped>\n",
       "    .dataframe tbody tr th:only-of-type {\n",
       "        vertical-align: middle;\n",
       "    }\n",
       "\n",
       "    .dataframe tbody tr th {\n",
       "        vertical-align: top;\n",
       "    }\n",
       "\n",
       "    .dataframe thead th {\n",
       "        text-align: right;\n",
       "    }\n",
       "</style>\n",
       "<table border=\"1\" class=\"dataframe\">\n",
       "  <thead>\n",
       "    <tr style=\"text-align: right;\">\n",
       "      <th></th>\n",
       "      <th>TANGGAL</th>\n",
       "      <th>KECEPATAN_ANGIN_MAKSIMUM</th>\n",
       "      <th>ARAH_ANGIN_KECEPATAN_MAKSIMUM</th>\n",
       "      <th>KECEPATAN_ANGIN_RATA</th>\n",
       "      <th>ARAH_ANGIN_TERBANYAK</th>\n",
       "      <th>KOTA</th>\n",
       "    </tr>\n",
       "  </thead>\n",
       "  <tbody>\n",
       "    <tr>\n",
       "      <th>0</th>\n",
       "      <td>01-01-2011</td>\n",
       "      <td>4.0</td>\n",
       "      <td>45.0</td>\n",
       "      <td>3.0</td>\n",
       "      <td>SW</td>\n",
       "      <td>ACEH</td>\n",
       "    </tr>\n",
       "    <tr>\n",
       "      <th>1</th>\n",
       "      <td>02-01-2011</td>\n",
       "      <td>4.0</td>\n",
       "      <td>135.0</td>\n",
       "      <td>3.0</td>\n",
       "      <td>E</td>\n",
       "      <td>ACEH</td>\n",
       "    </tr>\n",
       "    <tr>\n",
       "      <th>2</th>\n",
       "      <td>03-01-2011</td>\n",
       "      <td>5.0</td>\n",
       "      <td>135.0</td>\n",
       "      <td>3.0</td>\n",
       "      <td>E</td>\n",
       "      <td>ACEH</td>\n",
       "    </tr>\n",
       "    <tr>\n",
       "      <th>3</th>\n",
       "      <td>04-01-2011</td>\n",
       "      <td>5.0</td>\n",
       "      <td>135.0</td>\n",
       "      <td>2.0</td>\n",
       "      <td>E</td>\n",
       "      <td>ACEH</td>\n",
       "    </tr>\n",
       "    <tr>\n",
       "      <th>4</th>\n",
       "      <td>05-01-2011</td>\n",
       "      <td>4.0</td>\n",
       "      <td>90.0</td>\n",
       "      <td>4.0</td>\n",
       "      <td>E</td>\n",
       "      <td>ACEH</td>\n",
       "    </tr>\n",
       "  </tbody>\n",
       "</table>\n",
       "</div>"
      ],
      "text/plain": [
       "      TANGGAL  KECEPATAN_ANGIN_MAKSIMUM  ARAH_ANGIN_KECEPATAN_MAKSIMUM  \\\n",
       "0  01-01-2011                       4.0                           45.0   \n",
       "1  02-01-2011                       4.0                          135.0   \n",
       "2  03-01-2011                       5.0                          135.0   \n",
       "3  04-01-2011                       5.0                          135.0   \n",
       "4  05-01-2011                       4.0                           90.0   \n",
       "\n",
       "   KECEPATAN_ANGIN_RATA ARAH_ANGIN_TERBANYAK  KOTA  \n",
       "0                   3.0                   SW  ACEH  \n",
       "1                   3.0                   E   ACEH  \n",
       "2                   3.0                   E   ACEH  \n",
       "3                   2.0                   E   ACEH  \n",
       "4                   4.0                   E   ACEH  "
      ]
     },
     "execution_count": 10,
     "metadata": {},
     "output_type": "execute_result"
    }
   ],
   "source": [
    "ispu.head()"
   ]
  },
  {
   "cell_type": "code",
   "execution_count": 11,
   "id": "528e778f",
   "metadata": {},
   "outputs": [
    {
     "data": {
      "text/html": [
       "<div>\n",
       "<style scoped>\n",
       "    .dataframe tbody tr th:only-of-type {\n",
       "        vertical-align: middle;\n",
       "    }\n",
       "\n",
       "    .dataframe tbody tr th {\n",
       "        vertical-align: top;\n",
       "    }\n",
       "\n",
       "    .dataframe thead th {\n",
       "        text-align: right;\n",
       "    }\n",
       "</style>\n",
       "<table border=\"1\" class=\"dataframe\">\n",
       "  <thead>\n",
       "    <tr style=\"text-align: right;\">\n",
       "      <th></th>\n",
       "      <th>TANGGAL</th>\n",
       "      <th>KECEPATAN_ANGIN_MAKSIMUM</th>\n",
       "      <th>ARAH_ANGIN_KECEPATAN_MAKSIMUM</th>\n",
       "      <th>KECEPATAN_ANGIN_RATA</th>\n",
       "      <th>ARAH_ANGIN_TERBANYAK</th>\n",
       "      <th>KOTA</th>\n",
       "    </tr>\n",
       "  </thead>\n",
       "  <tbody>\n",
       "    <tr>\n",
       "      <th>10902</th>\n",
       "      <td>26-09-2020</td>\n",
       "      <td>4.0</td>\n",
       "      <td>20.0</td>\n",
       "      <td>2.0</td>\n",
       "      <td>C</td>\n",
       "      <td>JAKARTA</td>\n",
       "    </tr>\n",
       "    <tr>\n",
       "      <th>10903</th>\n",
       "      <td>27-09-2020</td>\n",
       "      <td>4.0</td>\n",
       "      <td>360.0</td>\n",
       "      <td>2.0</td>\n",
       "      <td>S</td>\n",
       "      <td>JAKARTA</td>\n",
       "    </tr>\n",
       "    <tr>\n",
       "      <th>10904</th>\n",
       "      <td>28-09-2020</td>\n",
       "      <td>6.0</td>\n",
       "      <td>100.0</td>\n",
       "      <td>3.0</td>\n",
       "      <td>E</td>\n",
       "      <td>JAKARTA</td>\n",
       "    </tr>\n",
       "    <tr>\n",
       "      <th>10905</th>\n",
       "      <td>29-09-2020</td>\n",
       "      <td>5.0</td>\n",
       "      <td>40.0</td>\n",
       "      <td>2.0</td>\n",
       "      <td>C</td>\n",
       "      <td>JAKARTA</td>\n",
       "    </tr>\n",
       "    <tr>\n",
       "      <th>10906</th>\n",
       "      <td>30-09-2020</td>\n",
       "      <td>7.0</td>\n",
       "      <td>40.0</td>\n",
       "      <td>3.0</td>\n",
       "      <td>SE</td>\n",
       "      <td>JAKARTA</td>\n",
       "    </tr>\n",
       "  </tbody>\n",
       "</table>\n",
       "</div>"
      ],
      "text/plain": [
       "          TANGGAL  KECEPATAN_ANGIN_MAKSIMUM  ARAH_ANGIN_KECEPATAN_MAKSIMUM  \\\n",
       "10902  26-09-2020                       4.0                           20.0   \n",
       "10903  27-09-2020                       4.0                          360.0   \n",
       "10904  28-09-2020                       6.0                          100.0   \n",
       "10905  29-09-2020                       5.0                           40.0   \n",
       "10906  30-09-2020                       7.0                           40.0   \n",
       "\n",
       "       KECEPATAN_ANGIN_RATA ARAH_ANGIN_TERBANYAK     KOTA  \n",
       "10902                   2.0                   C   JAKARTA  \n",
       "10903                   2.0                   S   JAKARTA  \n",
       "10904                   3.0                   E   JAKARTA  \n",
       "10905                   2.0                   C   JAKARTA  \n",
       "10906                   3.0                   SE  JAKARTA  "
      ]
     },
     "execution_count": 11,
     "metadata": {},
     "output_type": "execute_result"
    }
   ],
   "source": [
    "ispu.tail()"
   ]
  },
  {
   "cell_type": "code",
   "execution_count": 12,
   "id": "1f23fdb5",
   "metadata": {},
   "outputs": [
    {
     "name": "stdout",
     "output_type": "stream",
     "text": [
      "There are 80 duplicated records\n"
     ]
    }
   ],
   "source": [
    "duplicated = ispu.duplicated().sum()\n",
    "print (\"There are %d duplicated records\" %(duplicated))"
   ]
  },
  {
   "cell_type": "code",
   "execution_count": 13,
   "id": "48d62427",
   "metadata": {},
   "outputs": [
    {
     "data": {
      "text/html": [
       "<div>\n",
       "<style scoped>\n",
       "    .dataframe tbody tr th:only-of-type {\n",
       "        vertical-align: middle;\n",
       "    }\n",
       "\n",
       "    .dataframe tbody tr th {\n",
       "        vertical-align: top;\n",
       "    }\n",
       "\n",
       "    .dataframe thead th {\n",
       "        text-align: right;\n",
       "    }\n",
       "</style>\n",
       "<table border=\"1\" class=\"dataframe\">\n",
       "  <thead>\n",
       "    <tr style=\"text-align: right;\">\n",
       "      <th></th>\n",
       "      <th>TANGGAL</th>\n",
       "      <th>KECEPATAN_ANGIN_MAKSIMUM</th>\n",
       "      <th>ARAH_ANGIN_KECEPATAN_MAKSIMUM</th>\n",
       "      <th>KECEPATAN_ANGIN_RATA</th>\n",
       "      <th>ARAH_ANGIN_TERBANYAK</th>\n",
       "      <th>KOTA</th>\n",
       "    </tr>\n",
       "  </thead>\n",
       "  <tbody>\n",
       "    <tr>\n",
       "      <th>0</th>\n",
       "      <td>01-01-2011</td>\n",
       "      <td>4.0</td>\n",
       "      <td>45.0</td>\n",
       "      <td>3.0</td>\n",
       "      <td>SW</td>\n",
       "      <td>ACEH</td>\n",
       "    </tr>\n",
       "    <tr>\n",
       "      <th>1</th>\n",
       "      <td>02-01-2011</td>\n",
       "      <td>4.0</td>\n",
       "      <td>135.0</td>\n",
       "      <td>3.0</td>\n",
       "      <td>E</td>\n",
       "      <td>ACEH</td>\n",
       "    </tr>\n",
       "    <tr>\n",
       "      <th>2</th>\n",
       "      <td>03-01-2011</td>\n",
       "      <td>5.0</td>\n",
       "      <td>135.0</td>\n",
       "      <td>3.0</td>\n",
       "      <td>E</td>\n",
       "      <td>ACEH</td>\n",
       "    </tr>\n",
       "    <tr>\n",
       "      <th>3</th>\n",
       "      <td>04-01-2011</td>\n",
       "      <td>5.0</td>\n",
       "      <td>135.0</td>\n",
       "      <td>2.0</td>\n",
       "      <td>E</td>\n",
       "      <td>ACEH</td>\n",
       "    </tr>\n",
       "    <tr>\n",
       "      <th>4</th>\n",
       "      <td>05-01-2011</td>\n",
       "      <td>4.0</td>\n",
       "      <td>90.0</td>\n",
       "      <td>4.0</td>\n",
       "      <td>E</td>\n",
       "      <td>ACEH</td>\n",
       "    </tr>\n",
       "    <tr>\n",
       "      <th>...</th>\n",
       "      <td>...</td>\n",
       "      <td>...</td>\n",
       "      <td>...</td>\n",
       "      <td>...</td>\n",
       "      <td>...</td>\n",
       "      <td>...</td>\n",
       "    </tr>\n",
       "    <tr>\n",
       "      <th>10902</th>\n",
       "      <td>26-09-2020</td>\n",
       "      <td>4.0</td>\n",
       "      <td>20.0</td>\n",
       "      <td>2.0</td>\n",
       "      <td>C</td>\n",
       "      <td>JAKARTA</td>\n",
       "    </tr>\n",
       "    <tr>\n",
       "      <th>10903</th>\n",
       "      <td>27-09-2020</td>\n",
       "      <td>4.0</td>\n",
       "      <td>360.0</td>\n",
       "      <td>2.0</td>\n",
       "      <td>S</td>\n",
       "      <td>JAKARTA</td>\n",
       "    </tr>\n",
       "    <tr>\n",
       "      <th>10904</th>\n",
       "      <td>28-09-2020</td>\n",
       "      <td>6.0</td>\n",
       "      <td>100.0</td>\n",
       "      <td>3.0</td>\n",
       "      <td>E</td>\n",
       "      <td>JAKARTA</td>\n",
       "    </tr>\n",
       "    <tr>\n",
       "      <th>10905</th>\n",
       "      <td>29-09-2020</td>\n",
       "      <td>5.0</td>\n",
       "      <td>40.0</td>\n",
       "      <td>2.0</td>\n",
       "      <td>C</td>\n",
       "      <td>JAKARTA</td>\n",
       "    </tr>\n",
       "    <tr>\n",
       "      <th>10906</th>\n",
       "      <td>30-09-2020</td>\n",
       "      <td>7.0</td>\n",
       "      <td>40.0</td>\n",
       "      <td>3.0</td>\n",
       "      <td>SE</td>\n",
       "      <td>JAKARTA</td>\n",
       "    </tr>\n",
       "  </tbody>\n",
       "</table>\n",
       "<p>10827 rows × 6 columns</p>\n",
       "</div>"
      ],
      "text/plain": [
       "          TANGGAL  KECEPATAN_ANGIN_MAKSIMUM  ARAH_ANGIN_KECEPATAN_MAKSIMUM  \\\n",
       "0      01-01-2011                       4.0                           45.0   \n",
       "1      02-01-2011                       4.0                          135.0   \n",
       "2      03-01-2011                       5.0                          135.0   \n",
       "3      04-01-2011                       5.0                          135.0   \n",
       "4      05-01-2011                       4.0                           90.0   \n",
       "...           ...                       ...                            ...   \n",
       "10902  26-09-2020                       4.0                           20.0   \n",
       "10903  27-09-2020                       4.0                          360.0   \n",
       "10904  28-09-2020                       6.0                          100.0   \n",
       "10905  29-09-2020                       5.0                           40.0   \n",
       "10906  30-09-2020                       7.0                           40.0   \n",
       "\n",
       "       KECEPATAN_ANGIN_RATA ARAH_ANGIN_TERBANYAK     KOTA  \n",
       "0                       3.0                   SW     ACEH  \n",
       "1                       3.0                   E      ACEH  \n",
       "2                       3.0                   E      ACEH  \n",
       "3                       2.0                   E      ACEH  \n",
       "4                       4.0                   E      ACEH  \n",
       "...                     ...                  ...      ...  \n",
       "10902                   2.0                   C   JAKARTA  \n",
       "10903                   2.0                   S   JAKARTA  \n",
       "10904                   3.0                   E   JAKARTA  \n",
       "10905                   2.0                   C   JAKARTA  \n",
       "10906                   3.0                   SE  JAKARTA  \n",
       "\n",
       "[10827 rows x 6 columns]"
      ]
     },
     "execution_count": 13,
     "metadata": {},
     "output_type": "execute_result"
    }
   ],
   "source": [
    "ispu.drop_duplicates(subset=None, keep='first', inplace=False, ignore_index=False)"
   ]
  },
  {
   "cell_type": "code",
   "execution_count": 14,
   "id": "c2b3c836",
   "metadata": {},
   "outputs": [
    {
     "name": "stdout",
     "output_type": "stream",
     "text": [
      "There are 80 duplicated records\n"
     ]
    }
   ],
   "source": [
    "duplicated = ispu.duplicated().sum()\n",
    "print (\"There are %d duplicated records\" %(duplicated))"
   ]
  },
  {
   "cell_type": "code",
   "execution_count": 15,
   "id": "d22348d8",
   "metadata": {},
   "outputs": [],
   "source": [
    "ispuClean = ispu.drop_duplicates()"
   ]
  },
  {
   "cell_type": "code",
   "execution_count": 16,
   "id": "ff6762da",
   "metadata": {},
   "outputs": [
    {
     "name": "stdout",
     "output_type": "stream",
     "text": [
      "There are 80 duplicated records\n"
     ]
    }
   ],
   "source": [
    "duplicated = ispu.duplicated().sum()\n",
    "print (\"There are %d duplicated records\" %(duplicated))"
   ]
  },
  {
   "cell_type": "code",
   "execution_count": 17,
   "id": "cabe4190",
   "metadata": {},
   "outputs": [
    {
     "data": {
      "text/html": [
       "<div>\n",
       "<style scoped>\n",
       "    .dataframe tbody tr th:only-of-type {\n",
       "        vertical-align: middle;\n",
       "    }\n",
       "\n",
       "    .dataframe tbody tr th {\n",
       "        vertical-align: top;\n",
       "    }\n",
       "\n",
       "    .dataframe thead th {\n",
       "        text-align: right;\n",
       "    }\n",
       "</style>\n",
       "<table border=\"1\" class=\"dataframe\">\n",
       "  <thead>\n",
       "    <tr style=\"text-align: right;\">\n",
       "      <th></th>\n",
       "      <th>TANGGAL</th>\n",
       "      <th>KECEPATAN_ANGIN_MAKSIMUM</th>\n",
       "      <th>ARAH_ANGIN_KECEPATAN_MAKSIMUM</th>\n",
       "      <th>KECEPATAN_ANGIN_RATA</th>\n",
       "      <th>ARAH_ANGIN_TERBANYAK</th>\n",
       "      <th>KOTA</th>\n",
       "    </tr>\n",
       "  </thead>\n",
       "  <tbody>\n",
       "  </tbody>\n",
       "</table>\n",
       "</div>"
      ],
      "text/plain": [
       "Empty DataFrame\n",
       "Columns: [TANGGAL, KECEPATAN_ANGIN_MAKSIMUM, ARAH_ANGIN_KECEPATAN_MAKSIMUM, KECEPATAN_ANGIN_RATA, ARAH_ANGIN_TERBANYAK, KOTA]\n",
       "Index: []"
      ]
     },
     "execution_count": 17,
     "metadata": {},
     "output_type": "execute_result"
    }
   ],
   "source": [
    "ispuClean = ispu.drop_duplicates()\n",
    "ispuClean[ispuClean.duplicated()]"
   ]
  },
  {
   "cell_type": "code",
   "execution_count": 18,
   "id": "c877bc3c",
   "metadata": {},
   "outputs": [
    {
     "data": {
      "text/html": [
       "<div>\n",
       "<style scoped>\n",
       "    .dataframe tbody tr th:only-of-type {\n",
       "        vertical-align: middle;\n",
       "    }\n",
       "\n",
       "    .dataframe tbody tr th {\n",
       "        vertical-align: top;\n",
       "    }\n",
       "\n",
       "    .dataframe thead th {\n",
       "        text-align: right;\n",
       "    }\n",
       "</style>\n",
       "<table border=\"1\" class=\"dataframe\">\n",
       "  <thead>\n",
       "    <tr style=\"text-align: right;\">\n",
       "      <th></th>\n",
       "      <th>TANGGAL</th>\n",
       "      <th>KECEPATAN_ANGIN_MAKSIMUM</th>\n",
       "      <th>ARAH_ANGIN_KECEPATAN_MAKSIMUM</th>\n",
       "      <th>KECEPATAN_ANGIN_RATA</th>\n",
       "      <th>ARAH_ANGIN_TERBANYAK</th>\n",
       "      <th>KOTA</th>\n",
       "    </tr>\n",
       "  </thead>\n",
       "  <tbody>\n",
       "  </tbody>\n",
       "</table>\n",
       "</div>"
      ],
      "text/plain": [
       "Empty DataFrame\n",
       "Columns: [TANGGAL, KECEPATAN_ANGIN_MAKSIMUM, ARAH_ANGIN_KECEPATAN_MAKSIMUM, KECEPATAN_ANGIN_RATA, ARAH_ANGIN_TERBANYAK, KOTA]\n",
       "Index: []"
      ]
     },
     "execution_count": 18,
     "metadata": {},
     "output_type": "execute_result"
    }
   ],
   "source": [
    "ispuClean = ispu.drop_duplicates()\n",
    "ispuClean[ispuClean.duplicated()]"
   ]
  },
  {
   "cell_type": "code",
   "execution_count": 19,
   "id": "c53bbf9f",
   "metadata": {},
   "outputs": [
    {
     "name": "stdout",
     "output_type": "stream",
     "text": [
      "There are 0 duplicated records\n"
     ]
    }
   ],
   "source": [
    "duplicated = ispuClean.duplicated().sum()\n",
    "print (\"There are %d duplicated records\" %(duplicated))"
   ]
  },
  {
   "cell_type": "code",
   "execution_count": 20,
   "id": "2c37d229",
   "metadata": {},
   "outputs": [
    {
     "data": {
      "text/html": [
       "<div>\n",
       "<style scoped>\n",
       "    .dataframe tbody tr th:only-of-type {\n",
       "        vertical-align: middle;\n",
       "    }\n",
       "\n",
       "    .dataframe tbody tr th {\n",
       "        vertical-align: top;\n",
       "    }\n",
       "\n",
       "    .dataframe thead th {\n",
       "        text-align: right;\n",
       "    }\n",
       "</style>\n",
       "<table border=\"1\" class=\"dataframe\">\n",
       "  <thead>\n",
       "    <tr style=\"text-align: right;\">\n",
       "      <th></th>\n",
       "      <th>TANGGAL</th>\n",
       "      <th>KECEPATAN_ANGIN_MAKSIMUM</th>\n",
       "      <th>ARAH_ANGIN_KECEPATAN_MAKSIMUM</th>\n",
       "      <th>KECEPATAN_ANGIN_RATA</th>\n",
       "      <th>ARAH_ANGIN_TERBANYAK</th>\n",
       "      <th>KOTA</th>\n",
       "    </tr>\n",
       "  </thead>\n",
       "  <tbody>\n",
       "    <tr>\n",
       "      <th>0</th>\n",
       "      <td>01-01-2011</td>\n",
       "      <td>4.0</td>\n",
       "      <td>45.0</td>\n",
       "      <td>3.0</td>\n",
       "      <td>SW</td>\n",
       "      <td>ACEH</td>\n",
       "    </tr>\n",
       "    <tr>\n",
       "      <th>1</th>\n",
       "      <td>02-01-2011</td>\n",
       "      <td>4.0</td>\n",
       "      <td>135.0</td>\n",
       "      <td>3.0</td>\n",
       "      <td>E</td>\n",
       "      <td>ACEH</td>\n",
       "    </tr>\n",
       "    <tr>\n",
       "      <th>2</th>\n",
       "      <td>03-01-2011</td>\n",
       "      <td>5.0</td>\n",
       "      <td>135.0</td>\n",
       "      <td>3.0</td>\n",
       "      <td>E</td>\n",
       "      <td>ACEH</td>\n",
       "    </tr>\n",
       "    <tr>\n",
       "      <th>3</th>\n",
       "      <td>04-01-2011</td>\n",
       "      <td>5.0</td>\n",
       "      <td>135.0</td>\n",
       "      <td>2.0</td>\n",
       "      <td>E</td>\n",
       "      <td>ACEH</td>\n",
       "    </tr>\n",
       "    <tr>\n",
       "      <th>4</th>\n",
       "      <td>05-01-2011</td>\n",
       "      <td>4.0</td>\n",
       "      <td>90.0</td>\n",
       "      <td>4.0</td>\n",
       "      <td>E</td>\n",
       "      <td>ACEH</td>\n",
       "    </tr>\n",
       "  </tbody>\n",
       "</table>\n",
       "</div>"
      ],
      "text/plain": [
       "      TANGGAL  KECEPATAN_ANGIN_MAKSIMUM  ARAH_ANGIN_KECEPATAN_MAKSIMUM  \\\n",
       "0  01-01-2011                       4.0                           45.0   \n",
       "1  02-01-2011                       4.0                          135.0   \n",
       "2  03-01-2011                       5.0                          135.0   \n",
       "3  04-01-2011                       5.0                          135.0   \n",
       "4  05-01-2011                       4.0                           90.0   \n",
       "\n",
       "   KECEPATAN_ANGIN_RATA ARAH_ANGIN_TERBANYAK  KOTA  \n",
       "0                   3.0                   SW  ACEH  \n",
       "1                   3.0                   E   ACEH  \n",
       "2                   3.0                   E   ACEH  \n",
       "3                   2.0                   E   ACEH  \n",
       "4                   4.0                   E   ACEH  "
      ]
     },
     "execution_count": 20,
     "metadata": {},
     "output_type": "execute_result"
    }
   ],
   "source": [
    "ispu.head()"
   ]
  },
  {
   "cell_type": "code",
   "execution_count": 21,
   "id": "1a23aed4",
   "metadata": {},
   "outputs": [],
   "source": [
    "ispu.to_excel(\"825230074_DataBersih.xlsx\")"
   ]
  }
 ],
 "metadata": {
  "kernelspec": {
   "display_name": "Python 3",
   "language": "python",
   "name": "python3"
  },
  "language_info": {
   "codemirror_mode": {
    "name": "ipython",
    "version": 3
   },
   "file_extension": ".py",
   "mimetype": "text/x-python",
   "name": "python",
   "nbconvert_exporter": "python",
   "pygments_lexer": "ipython3",
   "version": "3.13.2"
  }
 },
 "nbformat": 4,
 "nbformat_minor": 5
}
